{
 "cells": [
  {
   "cell_type": "code",
   "execution_count": 14,
   "metadata": {},
   "outputs": [],
   "source": [
    "dd = {'s':[('a',3),('b',2),('c',4)],\n",
    "    'a':[('d',1)],\n",
    "    'b':[('e',8),('f',7),('d',1)],\n",
    "    'c':[('e',1),('j',3)],\n",
    "    'd':[('f',1),('h',1)],\n",
    "    'e':[('g',1)],\n",
    "    'f':[('g',5)],\n",
    "    'h':[('g',1),('f',3)],\n",
    "    'j':[('e',2)],\n",
    "    'g':[]}"
   ]
  },
  {
   "cell_type": "code",
   "execution_count": null,
   "metadata": {},
   "outputs": [],
   "source": []
  },
  {
   "cell_type": "code",
   "execution_count": 7,
   "metadata": {},
   "outputs": [
    {
     "data": {
      "text/plain": [
       "True"
      ]
     },
     "execution_count": 7,
     "metadata": {},
     "output_type": "execute_result"
    }
   ],
   "source": [
    "def build_dcit(lis):\n",
    "    di  = {}\n",
    "\n",
    "    for i in lis:\n",
    "        name = i[0]\n",
    "        cost = i[1]\n",
    "        di[name] = cost\n",
    "    return di\n",
    "\n",
    "\n",
    "new[0] in build_dcit(lis)\n"
   ]
  },
  {
   "cell_type": "code",
   "execution_count": 8,
   "metadata": {},
   "outputs": [
    {
     "data": {
      "text/plain": [
       "True"
      ]
     },
     "execution_count": 8,
     "metadata": {},
     "output_type": "execute_result"
    }
   ],
   "source": [
    "def build_dcitt(lis):\n",
    "    di  = {}\n",
    "\n",
    "    for i in lis:\n",
    "\n",
    "        di[i[0]] = i[1]\n",
    "    return di\n",
    "\n",
    "\n",
    "new[0] in build_dcitt(lis)"
   ]
  },
  {
   "cell_type": "code",
   "execution_count": 11,
   "metadata": {},
   "outputs": [
    {
     "data": {
      "text/plain": [
       "True"
      ]
     },
     "execution_count": 11,
     "metadata": {},
     "output_type": "execute_result"
    }
   ],
   "source": [
    "def build_dcitt(lis):\n",
    "     \n",
    "    return {i[0] :i[1] for i in lis }\n",
    "\n",
    "\n",
    "new[0] in build_dcitt(lis)"
   ]
  },
  {
   "cell_type": "code",
   "execution_count": null,
   "metadata": {},
   "outputs": [],
   "source": []
  },
  {
   "cell_type": "code",
   "execution_count": 31,
   "metadata": {},
   "outputs": [
    {
     "name": "stdout",
     "output_type": "stream",
     "text": [
      "('c', 4)\n"
     ]
    }
   ],
   "source": [
    "for i in lis:\n",
    "    \n",
    "    \n",
    "    if (i[0] == new [0]):\n",
    "        print(i)\n",
    "        if i[1]<new[1]:\n",
    "            pass\n",
    "        else:\n",
    "            ind = lis.index(i)\n",
    "            lis[ind] = new\n",
    "            \n",
    "    \n",
    "    \n",
    "    "
   ]
  },
  {
   "cell_type": "code",
   "execution_count": 32,
   "metadata": {},
   "outputs": [
    {
     "data": {
      "text/plain": [
       "[('a', 3), ('b', 2), ('c', 2), ('e', 1)]"
      ]
     },
     "execution_count": 32,
     "metadata": {},
     "output_type": "execute_result"
    }
   ],
   "source": [
    "lis"
   ]
  },
  {
   "cell_type": "code",
   "execution_count": 58,
   "metadata": {},
   "outputs": [
    {
     "name": "stdout",
     "output_type": "stream",
     "text": [
      "Queue :   [('s', 0)]\n",
      "child pop:  ('s', 0)\n",
      "Explored:  ['s']\n",
      "current child:  [('a', 3), ('b', 2), ('c', 4)]\n",
      "('a', 3)\n",
      "('a', 3) , parent cost (0) + child cost (3) = 3\n",
      "('b', 2)\n",
      "('b', 2) , parent cost (0) + child cost (2) = 2\n",
      "('c', 4)\n",
      "('c', 4) , parent cost (0) + child cost (4) = 4\n",
      "**************************************************\n",
      "Queue :   [('b', 2), ('a', 3), ('c', 4)]\n",
      "child pop:  ('b', 2)\n",
      "Explored:  ['s', 'b']\n",
      "current child:  [('e', 8), ('f', 7), ('d', 1)]\n",
      "('e', 8)\n",
      "('e', 8) , parent cost (2) + child cost (8) = 10\n",
      "('f', 7)\n",
      "('f', 7) , parent cost (2) + child cost (7) = 9\n",
      "('d', 1)\n",
      "('d', 1) , parent cost (2) + child cost (1) = 3\n",
      "**************************************************\n",
      "Queue :   [('a', 3), ('d', 3), ('c', 4), ('f', 9), ('e', 10)]\n",
      "child pop:  ('a', 3)\n",
      "Explored:  ['s', 'b', 'a']\n",
      "current child:  [('d', 1)]\n",
      "('d', 1)\n",
      "('d', 1) , parent cost (3) + child cost (1) = 4\n",
      "**************************************************\n",
      "Queue :   [('d', 3), ('c', 4), ('f', 9), ('e', 10)]\n",
      "child pop:  ('d', 3)\n",
      "Explored:  ['s', 'b', 'a', 'd']\n",
      "current child:  [('f', 1), ('h', 1)]\n",
      "('f', 1)\n",
      "('f', 1) , parent cost (3) + child cost (1) = 4\n",
      "('h', 1)\n",
      "('h', 1) , parent cost (3) + child cost (1) = 4\n",
      "**************************************************\n",
      "Queue :   [('c', 4), ('f', 4), ('h', 4), ('e', 10)]\n",
      "child pop:  ('c', 4)\n",
      "Explored:  ['s', 'b', 'a', 'd', 'c']\n",
      "current child:  [('e', 1), ('j', 3)]\n",
      "('e', 1)\n",
      "('e', 1) , parent cost (4) + child cost (1) = 5\n",
      "('j', 3)\n",
      "('j', 3) , parent cost (4) + child cost (3) = 7\n",
      "**************************************************\n",
      "Queue :   [('f', 4), ('h', 4), ('e', 5), ('j', 7)]\n",
      "child pop:  ('f', 4)\n",
      "Explored:  ['s', 'b', 'a', 'd', 'c', 'f']\n",
      "current child:  [('g', 5)]\n",
      "('g', 5)\n",
      "('g', 5) , parent cost (4) + child cost (5) = 9\n",
      "**************************************************\n",
      "Queue :   [('h', 4), ('e', 5), ('j', 7), ('g', 9)]\n",
      "child pop:  ('h', 4)\n",
      "Explored:  ['s', 'b', 'a', 'd', 'c', 'f', 'h']\n",
      "current child:  [('g', 1), ('f', 3)]\n",
      "('g', 1)\n",
      "('g', 1) , parent cost (4) + child cost (1) = 5\n",
      "('f', 3)\n",
      "('f', 3) , parent cost (4) + child cost (3) = 7\n",
      "**************************************************\n",
      "Queue :   [('e', 5), ('g', 5), ('j', 7)]\n",
      "child pop:  ('e', 5)\n",
      "Explored:  ['s', 'b', 'a', 'd', 'c', 'f', 'h', 'e']\n",
      "current child:  [('g', 1)]\n",
      "('g', 1)\n",
      "('g', 1) , parent cost (5) + child cost (1) = 6\n",
      "**************************************************\n",
      "Queue :   [('g', 5), ('j', 7)]\n",
      "child pop:  ('g', 5)\n"
     ]
    },
    {
     "data": {
      "text/plain": [
       "['s', 'b', 'a', 'd', 'c', 'f', 'h', 'e', 'g']"
      ]
     },
     "execution_count": 58,
     "metadata": {},
     "output_type": "execute_result"
    }
   ],
   "source": [
    "def UCS(d,goal):\n",
    "    \n",
    "    q = []\n",
    "    q.append(('s',0))\n",
    "    explored = []\n",
    "    \n",
    "    while len(q)>0:\n",
    "\n",
    "        print('Queue :  ',q)\n",
    "        node = q.pop(0)\n",
    "        print('child pop: ',node) # node[0] --> node name AND node[1] --> cost\n",
    "        \n",
    "        if node[0] not in explored:\n",
    "            explored.append(node[0])\n",
    "        \n",
    "        if node[0] == goal:\n",
    "            return explored \n",
    "        \n",
    "        print('Explored: ',explored)\n",
    "\n",
    "        child = d.get(node[0])\n",
    "        print('current child: ',child)\n",
    "        \n",
    "        for i in child:\n",
    "            print(i)\n",
    "            \n",
    "            cost =  i[1] + node[1]\n",
    "            name = i[0]\n",
    "            new = (name,cost)\n",
    "\n",
    "            \n",
    "            print('{} , parent cost ({}) + child cost ({}) = {}'.format(i,node[1],i[1],cost))\n",
    "            #print('////\\\\\\\\ ',new)\n",
    "            \n",
    "            \n",
    "            if new[0] not in explored and new[0] not in build_dcit(q):\n",
    "                \n",
    "                q.append(new) \n",
    "                \n",
    "            \n",
    "                \n",
    "            elif new[0] in build_dcit(q):\n",
    "                #rint('[[[[[[[[[[[[[[[duplicate]]]]]]]]]]]]]]]')\n",
    "\n",
    "                #rint(new[0],build_dcit(q)[new[0]])\n",
    "\n",
    "                old_data = build_dcit(q)\n",
    "                old_cost = old_data[new[0]]\n",
    "                old_name = new[0]\n",
    "                old = (old_name,old_cost)\n",
    "\n",
    "                #rint(old)\n",
    "                #rint('NNNNNNNNNNNNNNNNNNNNNN',new , node)\n",
    "                if new[1] < old[1]:\n",
    "                    #rint('^^^^^^^*******%%%%%%%% in if')\n",
    "                    inde = q.index(old)\n",
    "                    q[inde] = new\n",
    "                else:\n",
    "                    pass\n",
    "\n",
    "        \n",
    "        q = sorted(q,key= my)\n",
    "        #print(q)\n",
    "        print(50*'*')\n",
    "        \n",
    "    \n",
    "UCS(dd,'g')"
   ]
  },
  {
   "cell_type": "code",
   "execution_count": 36,
   "metadata": {},
   "outputs": [
    {
     "data": {
      "text/plain": [
       "[('S', 0)]"
      ]
     },
     "execution_count": 36,
     "metadata": {},
     "output_type": "execute_result"
    }
   ],
   "source": [
    "s = []\n",
    "s.append(('S',0))\n",
    "s"
   ]
  },
  {
   "cell_type": "code",
   "execution_count": 59,
   "metadata": {},
   "outputs": [
    {
     "name": "stdout",
     "output_type": "stream",
     "text": [
      "Queue :   [('s', 0)]\n",
      "**************************************************\n",
      "Queue :   [('b', 2), ('a', 3), ('c', 4)]\n",
      "**************************************************\n",
      "Queue :   [('a', 3), ('d', 3), ('c', 4), ('f', 9), ('e', 10)]\n",
      "**************************************************\n",
      "Queue :   [('d', 3), ('c', 4), ('f', 9), ('e', 10)]\n",
      "**************************************************\n",
      "Queue :   [('c', 4), ('f', 4), ('h', 4), ('e', 10)]\n",
      "**************************************************\n",
      "Queue :   [('f', 4), ('h', 4), ('e', 5), ('j', 7)]\n",
      "**************************************************\n",
      "Queue :   [('h', 4), ('e', 5), ('j', 7), ('g', 9)]\n",
      "**************************************************\n",
      "Queue :   [('e', 5), ('g', 5), ('j', 7)]\n",
      "**************************************************\n",
      "Queue :   [('g', 5), ('j', 7)]\n"
     ]
    },
    {
     "data": {
      "text/plain": [
       "['s', 'b', 'a', 'd', 'c', 'f', 'h', 'e', 'g']"
      ]
     },
     "execution_count": 59,
     "metadata": {},
     "output_type": "execute_result"
    }
   ],
   "source": [
    "def UCS_new(d,goal):\n",
    "    \n",
    "    q = []\n",
    "    q.append(('s',0))\n",
    "    explored = []\n",
    "    \n",
    "    while len(q)>0:\n",
    "\n",
    "        print('Queue :  ',q)\n",
    "        node = q.pop(0)   \n",
    "        \n",
    "        if node[0] not in explored:\n",
    "            explored.append(node[0])\n",
    "        \n",
    "        if node[0] == goal:\n",
    "            return explored \n",
    "        \n",
    "        child = d.get(node[0])\n",
    "              \n",
    "        for i in child:\n",
    "\n",
    "            cost =  i[1] + node[1]\n",
    "            name = i[0]\n",
    "            new = (name,cost)\n",
    "\n",
    "            if new[0] not in explored and new[0] not in build_dcit(q):\n",
    "                \n",
    "                q.append(new) \n",
    "\n",
    "            elif new[0] in build_dcit(q):\n",
    "\n",
    "                old_data = build_dcit(q)\n",
    "                old_cost = old_data[new[0]]\n",
    "                old_name = new[0]\n",
    "                old = (old_name,old_cost)\n",
    "\n",
    "                if new[1] < old[1]:\n",
    "\n",
    "                    inde = q.index(old)\n",
    "                    q[inde] = new\n",
    "                else:\n",
    "                    pass\n",
    "\n",
    "        \n",
    "        q = sorted(q,key= my)\n",
    "        print(50*'*')\n",
    "        \n",
    "    \n",
    "UCS_new(dd,'g')"
   ]
  },
  {
   "cell_type": "code",
   "execution_count": 60,
   "metadata": {},
   "outputs": [
    {
     "data": {
      "text/plain": [
       "{'s': [('a', 3), ('b', 2), ('c', 4)],\n",
       " 'a': [('d', 1)],\n",
       " 'b': [('e', 8), ('f', 7), ('d', 1)],\n",
       " 'c': [('e', 1), ('j', 3)],\n",
       " 'd': [('f', 1), ('h', 1)],\n",
       " 'e': [('g', 1)],\n",
       " 'f': [('g', 5)],\n",
       " 'h': [('g', 1), ('f', 3)],\n",
       " 'j': [('e', 2)],\n",
       " 'g': []}"
      ]
     },
     "execution_count": 60,
     "metadata": {},
     "output_type": "execute_result"
    }
   ],
   "source": [
    "dd"
   ]
  },
  {
   "cell_type": "code",
   "execution_count": null,
   "metadata": {},
   "outputs": [],
   "source": []
  },
  {
   "cell_type": "code",
   "execution_count": null,
   "metadata": {},
   "outputs": [],
   "source": []
  },
  {
   "cell_type": "code",
   "execution_count": null,
   "metadata": {},
   "outputs": [],
   "source": []
  },
  {
   "cell_type": "code",
   "execution_count": 70,
   "metadata": {},
   "outputs": [
    {
     "name": "stdout",
     "output_type": "stream",
     "text": [
      "Queue :   [('s', 0)]\n",
      "**************************************************\n",
      "Queue :   [('b', 2), ('a', 3), ('c', 4)]\n",
      "**************************************************\n",
      "Queue :   [('a', 3), ('d', 3), ('c', 4), ('f', 9), ('e', 10)]\n",
      "**************************************************\n",
      "Queue :   [('d', 3), ('c', 4), ('f', 9), ('e', 10)]\n",
      "**************************************************\n",
      "Queue :   [('c', 4), ('f', 4), ('h', 4), ('e', 10)]\n",
      "**************************************************\n",
      "Queue :   [('f', 4), ('h', 4), ('e', 5), ('j', 7)]\n",
      "**************************************************\n",
      "Queue :   [('h', 4), ('e', 5), ('j', 7), ('g', 9)]\n",
      "**************************************************\n",
      "Queue :   [('e', 5), ('g', 5), ('j', 7)]\n",
      "**************************************************\n",
      "Queue :   [('g', 5), ('j', 7)]\n"
     ]
    },
    {
     "data": {
      "text/plain": [
       "0.0019614696502685547"
      ]
     },
     "execution_count": 70,
     "metadata": {},
     "output_type": "execute_result"
    }
   ],
   "source": [
    "import time\n",
    "\n",
    "strat =  time.time()\n",
    "UCS_new(dd,'g')\n",
    "end =  time.time()\n",
    "total = end-strat\n",
    "total"
   ]
  }
 ],
 "metadata": {
  "kernelspec": {
   "display_name": "Python 3",
   "language": "python",
   "name": "python3"
  },
  "language_info": {
   "codemirror_mode": {
    "name": "ipython",
    "version": 3
   },
   "file_extension": ".py",
   "mimetype": "text/x-python",
   "name": "python",
   "nbconvert_exporter": "python",
   "pygments_lexer": "ipython3",
   "version": "3.7.0"
  }
 },
 "nbformat": 4,
 "nbformat_minor": 4
}
