{
 "cells": [
  {
   "cell_type": "code",
   "execution_count": 1,
   "metadata": {
    "id": "cdDfqZ2TrnUG"
   },
   "outputs": [],
   "source": [
    "dd = {'s':[('a',3),('b',2),('c',4)],\n",
    "    'a':[('d',1)],\n",
    "    'b':[('e',8),('f',7),('d',1)],\n",
    "    'c':[('e',1),('j',3)],\n",
    "    'd':[('f',1),('h',1)],\n",
    "    'e':[('g',1)],\n",
    "    'f':[('g',5)],\n",
    "    'h':[('g',1),('f',3)],\n",
    "    'j':[('e',2)],\n",
    "    'g':[]}"
   ]
  },
  {
   "cell_type": "code",
   "execution_count": null,
   "metadata": {
    "id": "9tcQDyM1rnUM"
   },
   "outputs": [],
   "source": []
  },
  {
   "cell_type": "code",
   "execution_count": null,
   "metadata": {
    "id": "jB18v88ErnUO"
   },
   "outputs": [],
   "source": []
  },
  {
   "cell_type": "code",
   "execution_count": 2,
   "metadata": {
    "id": "t1z0E5CqrnUQ"
   },
   "outputs": [],
   "source": [
    "lis = [('a',3),('b',2),('c',4),('e',1)]"
   ]
  },
  {
   "cell_type": "code",
   "execution_count": 3,
   "metadata": {
    "id": "xZe83J_WrnUR"
   },
   "outputs": [],
   "source": [
    "def my(x):\n",
    "    return x[1]"
   ]
  },
  {
   "cell_type": "code",
   "execution_count": 4,
   "metadata": {
    "colab": {
     "base_uri": "https://localhost:8080/"
    },
    "id": "XdQMxDi9rnUT",
    "outputId": "6a910857-b771-490e-bfd8-da43dc08e458"
   },
   "outputs": [
    {
     "data": {
      "text/plain": [
       "[('e', 1), ('b', 2), ('a', 3), ('c', 4)]"
      ]
     },
     "execution_count": 4,
     "metadata": {},
     "output_type": "execute_result"
    }
   ],
   "source": [
    "lis = sorted(lis,key=my)\n",
    "lis"
   ]
  },
  {
   "cell_type": "code",
   "execution_count": 5,
   "metadata": {
    "colab": {
     "base_uri": "https://localhost:8080/"
    },
    "id": "cOlssnP8rnUV",
    "outputId": "7b7890b7-0335-42c8-b862-78b8ea7e37d3"
   },
   "outputs": [
    {
     "data": {
      "text/plain": [
       "[('e', 1), ('b', 2), ('a', 3), ('c', 4)]"
      ]
     },
     "execution_count": 5,
     "metadata": {},
     "output_type": "execute_result"
    }
   ],
   "source": [
    "lis"
   ]
  },
  {
   "cell_type": "code",
   "execution_count": 6,
   "metadata": {
    "id": "txPBvjKcrnUX"
   },
   "outputs": [],
   "source": [
    "new = ('c',2)"
   ]
  },
  {
   "cell_type": "code",
   "execution_count": 7,
   "metadata": {
    "colab": {
     "base_uri": "https://localhost:8080/"
    },
    "id": "jKkhz1CcrnUY",
    "outputId": "096a9381-b0c3-4cb8-bb8f-0e696cbd1bf4"
   },
   "outputs": [
    {
     "data": {
      "text/plain": [
       "True"
      ]
     },
     "execution_count": 7,
     "metadata": {},
     "output_type": "execute_result"
    }
   ],
   "source": [
    "def build_dcit(lis):\n",
    "    di  = {}\n",
    "\n",
    "    for i in lis:\n",
    "        name = i[0]\n",
    "        cost = i[1]\n",
    "        di[name] = cost\n",
    "    return di\n",
    "\n",
    "\n",
    "new[0] in build_dcit(lis)\n"
   ]
  },
  {
   "cell_type": "code",
   "execution_count": 8,
   "metadata": {
    "colab": {
     "base_uri": "https://localhost:8080/"
    },
    "id": "dAyVhGb8rnUb",
    "outputId": "c23dce31-b258-4b45-a0e4-24eeed2386ca"
   },
   "outputs": [
    {
     "data": {
      "text/plain": [
       "True"
      ]
     },
     "execution_count": 8,
     "metadata": {},
     "output_type": "execute_result"
    }
   ],
   "source": [
    "def build_dcitt(lis):\n",
    "    di  = {}\n",
    "\n",
    "    for i in lis:\n",
    "\n",
    "        di[i[0]] = i[1]\n",
    "    return di\n",
    "\n",
    "\n",
    "new[0] in build_dcitt(lis)"
   ]
  },
  {
   "cell_type": "code",
   "execution_count": 9,
   "metadata": {
    "colab": {
     "base_uri": "https://localhost:8080/"
    },
    "id": "Lmi5t156rnUc",
    "outputId": "4669a616-64c5-436a-e55f-5c7cddaab1d4"
   },
   "outputs": [
    {
     "data": {
      "text/plain": [
       "True"
      ]
     },
     "execution_count": 9,
     "metadata": {},
     "output_type": "execute_result"
    }
   ],
   "source": [
    "def build_dcitt(lis):\n",
    "     \n",
    "    return {i[0] :i[1] for i in lis }\n",
    "\n",
    "\n",
    "new[0] in build_dcitt(lis)"
   ]
  },
  {
   "cell_type": "code",
   "execution_count": null,
   "metadata": {
    "id": "R5D9Vy-OrnUe"
   },
   "outputs": [],
   "source": []
  },
  {
   "cell_type": "code",
   "execution_count": 10,
   "metadata": {
    "colab": {
     "base_uri": "https://localhost:8080/"
    },
    "id": "urFuuFwDrnUe",
    "outputId": "fcf9e558-a357-48ff-e0a7-921aacd7d966"
   },
   "outputs": [
    {
     "name": "stdout",
     "output_type": "stream",
     "text": [
      "('c', 4)\n"
     ]
    }
   ],
   "source": [
    "for i in lis:\n",
    "    \n",
    "    \n",
    "    if (i[0] == new [0]):\n",
    "        print(i)\n",
    "        if i[1]<new[1]:\n",
    "            pass\n",
    "        else:\n",
    "            ind = lis.index(i)\n",
    "            lis[ind] = new\n",
    "            \n",
    "    \n",
    "    \n",
    "    "
   ]
  },
  {
   "cell_type": "code",
   "execution_count": 11,
   "metadata": {
    "colab": {
     "base_uri": "https://localhost:8080/"
    },
    "id": "HUO69Bk7rnUg",
    "outputId": "40595b3f-3127-4ad1-9a63-9e04e726c989"
   },
   "outputs": [
    {
     "data": {
      "text/plain": [
       "[('e', 1), ('b', 2), ('a', 3), ('c', 2)]"
      ]
     },
     "execution_count": 11,
     "metadata": {},
     "output_type": "execute_result"
    }
   ],
   "source": [
    "lis"
   ]
  },
  {
   "cell_type": "code",
   "execution_count": 12,
   "metadata": {
    "colab": {
     "base_uri": "https://localhost:8080/"
    },
    "id": "Tioo6CpTrnUh",
    "outputId": "38e2c345-7a4e-4f72-8d4a-60d7e2b9af1e"
   },
   "outputs": [
    {
     "name": "stdout",
     "output_type": "stream",
     "text": [
      "Queue :   [('s', 0)]\n",
      "child pop:  ('s', 0)\n",
      "Explored:  ['s']\n",
      "current child:  [('a', 3), ('b', 2), ('c', 4)]\n",
      "('a', 3)\n",
      "('a', 3) , parent cost (0) + child cost (3) = 3\n",
      "('b', 2)\n",
      "('b', 2) , parent cost (0) + child cost (2) = 2\n",
      "('c', 4)\n",
      "('c', 4) , parent cost (0) + child cost (4) = 4\n",
      "**************************************************\n",
      "Queue :   [('b', 2), ('a', 3), ('c', 4)]\n",
      "child pop:  ('b', 2)\n",
      "Explored:  ['s', 'b']\n",
      "current child:  [('e', 8), ('f', 7), ('d', 1)]\n",
      "('e', 8)\n",
      "('e', 8) , parent cost (2) + child cost (8) = 10\n",
      "('f', 7)\n",
      "('f', 7) , parent cost (2) + child cost (7) = 9\n",
      "('d', 1)\n",
      "('d', 1) , parent cost (2) + child cost (1) = 3\n",
      "**************************************************\n",
      "Queue :   [('a', 3), ('d', 3), ('c', 4), ('f', 9), ('e', 10)]\n",
      "child pop:  ('a', 3)\n",
      "Explored:  ['s', 'b', 'a']\n",
      "current child:  [('d', 1)]\n",
      "('d', 1)\n",
      "('d', 1) , parent cost (3) + child cost (1) = 4\n",
      "**************************************************\n",
      "Queue :   [('d', 3), ('c', 4), ('f', 9), ('e', 10)]\n",
      "child pop:  ('d', 3)\n",
      "Explored:  ['s', 'b', 'a', 'd']\n",
      "current child:  [('f', 1), ('h', 1)]\n",
      "('f', 1)\n",
      "('f', 1) , parent cost (3) + child cost (1) = 4\n",
      "('h', 1)\n",
      "('h', 1) , parent cost (3) + child cost (1) = 4\n",
      "**************************************************\n",
      "Queue :   [('c', 4), ('f', 4), ('h', 4), ('e', 10)]\n",
      "child pop:  ('c', 4)\n",
      "Explored:  ['s', 'b', 'a', 'd', 'c']\n",
      "current child:  [('e', 1), ('j', 3)]\n",
      "('e', 1)\n",
      "('e', 1) , parent cost (4) + child cost (1) = 5\n",
      "('j', 3)\n",
      "('j', 3) , parent cost (4) + child cost (3) = 7\n",
      "**************************************************\n",
      "Queue :   [('f', 4), ('h', 4), ('e', 5), ('j', 7)]\n",
      "child pop:  ('f', 4)\n",
      "Explored:  ['s', 'b', 'a', 'd', 'c', 'f']\n",
      "current child:  [('g', 5)]\n",
      "('g', 5)\n",
      "('g', 5) , parent cost (4) + child cost (5) = 9\n",
      "**************************************************\n",
      "Queue :   [('h', 4), ('e', 5), ('j', 7), ('g', 9)]\n",
      "child pop:  ('h', 4)\n",
      "Explored:  ['s', 'b', 'a', 'd', 'c', 'f', 'h']\n",
      "current child:  [('g', 1), ('f', 3)]\n",
      "('g', 1)\n",
      "('g', 1) , parent cost (4) + child cost (1) = 5\n",
      "('f', 3)\n",
      "('f', 3) , parent cost (4) + child cost (3) = 7\n",
      "**************************************************\n",
      "Queue :   [('e', 5), ('g', 5), ('j', 7)]\n",
      "child pop:  ('e', 5)\n",
      "Explored:  ['s', 'b', 'a', 'd', 'c', 'f', 'h', 'e']\n",
      "current child:  [('g', 1)]\n",
      "('g', 1)\n",
      "('g', 1) , parent cost (5) + child cost (1) = 6\n",
      "**************************************************\n",
      "Queue :   [('g', 5), ('j', 7)]\n",
      "child pop:  ('g', 5)\n"
     ]
    },
    {
     "data": {
      "text/plain": [
       "['s', 'b', 'a', 'd', 'c', 'f', 'h', 'e', 'g']"
      ]
     },
     "execution_count": 12,
     "metadata": {},
     "output_type": "execute_result"
    }
   ],
   "source": [
    "def UCS(d,goal):\n",
    "    \n",
    "    q = []\n",
    "    q.append(('s',0))\n",
    "    explored = []\n",
    "    \n",
    "    while len(q)>0:\n",
    "\n",
    "        print('Queue :  ',q)\n",
    "        node = q.pop(0)\n",
    "        print('child pop: ',node) # node[0] --> node name AND node[1] --> cost\n",
    "        \n",
    "        if node[0] not in explored:\n",
    "            explored.append(node[0])\n",
    "        \n",
    "        if node[0] == goal:\n",
    "            return explored \n",
    "        \n",
    "        print('Explored: ',explored)\n",
    "\n",
    "        child = d.get(node[0])\n",
    "        print('current child: ',child)\n",
    "        \n",
    "        for i in child:\n",
    "            print(i)\n",
    "            \n",
    "            cost =  i[1] + node[1]\n",
    "            name = i[0]\n",
    "            new = (name,cost)\n",
    "\n",
    "            \n",
    "            print('{} , parent cost ({}) + child cost ({}) = {}'.format(i,node[1],i[1],cost))\n",
    "            #print('////\\\\\\\\ ',new)\n",
    "            \n",
    "            \n",
    "            if new[0] not in explored and new[0] not in build_dcit(q):\n",
    "                \n",
    "                q.append(new) \n",
    "                \n",
    "            \n",
    "                \n",
    "            elif new[0] in build_dcit(q):\n",
    "                #rint('[[[[[[[[[[[[[[[duplicate]]]]]]]]]]]]]]]')\n",
    "\n",
    "                #rint(new[0],build_dcit(q)[new[0]])\n",
    "\n",
    "                old_data = build_dcit(q)\n",
    "                old_cost = old_data[new[0]]\n",
    "                old_name = new[0]\n",
    "                old = (old_name,old_cost)\n",
    "\n",
    "                #rint(old)\n",
    "                #rint('NNNNNNNNNNNNNNNNNNNNNN',new , node)\n",
    "                if new[1] < old[1]:\n",
    "                    #rint('^^^^^^^*******%%%%%%%% in if')\n",
    "                    inde = q.index(old)\n",
    "                    q[inde] = new\n",
    "                else:\n",
    "                    pass\n",
    "\n",
    "        \n",
    "        q = sorted(q,key= my)\n",
    "        #print(q)\n",
    "        print(50*'*')\n",
    "        \n",
    "    \n",
    "UCS(dd,'g')"
   ]
  },
  {
   "cell_type": "code",
   "execution_count": 13,
   "metadata": {
    "colab": {
     "base_uri": "https://localhost:8080/"
    },
    "id": "jj3D-kHlrnUj",
    "outputId": "b05e32c4-f4f1-48f6-904d-43b8a2b83a4f"
   },
   "outputs": [
    {
     "data": {
      "text/plain": [
       "[('S', 0)]"
      ]
     },
     "execution_count": 13,
     "metadata": {},
     "output_type": "execute_result"
    }
   ],
   "source": [
    "s = []\n",
    "s.append(('S',0))\n",
    "s"
   ]
  },
  {
   "cell_type": "code",
   "execution_count": 17,
   "metadata": {
    "colab": {
     "base_uri": "https://localhost:8080/"
    },
    "id": "ghKrmQ2qrnUk",
    "outputId": "f4f50809-2efc-4e52-db44-3d96505ce735"
   },
   "outputs": [
    {
     "name": "stdout",
     "output_type": "stream",
     "text": [
      "Queue :   [('s', 0)]\n",
      "**************************************************\n",
      "Queue :   [('b', 2), ('a', 3), ('c', 4)]\n",
      "**************************************************\n",
      "Queue :   [('a', 3), ('d', 3), ('c', 4), ('f', 9), ('e', 10)]\n",
      "**************************************************\n",
      "Queue :   [('d', 3), ('c', 4), ('f', 9), ('e', 10)]\n",
      "**************************************************\n",
      "Queue :   [('c', 4), ('f', 4), ('h', 4), ('e', 10)]\n",
      "**************************************************\n",
      "Queue :   [('f', 4), ('h', 4), ('e', 5), ('j', 7)]\n",
      "**************************************************\n",
      "Queue :   [('h', 4), ('e', 5), ('j', 7), ('g', 9)]\n",
      "**************************************************\n",
      "Queue :   [('e', 5), ('g', 5), ('j', 7)]\n",
      "**************************************************\n",
      "Queue :   [('g', 5), ('j', 7)]\n"
     ]
    },
    {
     "data": {
      "text/plain": [
       "['s', 'b', 'a', 'd', 'c', 'f', 'h', 'e', 'g']"
      ]
     },
     "execution_count": 17,
     "metadata": {},
     "output_type": "execute_result"
    }
   ],
   "source": [
    "def UCS_new(d,goal):\n",
    "    \n",
    "    q = []\n",
    "    q.append(('s',0))\n",
    "    explored = []\n",
    "    \n",
    "    while len(q)>0:\n",
    "\n",
    "        print('Queue :  ',q)\n",
    "        node = q.pop(0)   \n",
    "        \n",
    "        if node[0] not in explored:\n",
    "            explored.append(node[0])\n",
    "        \n",
    "        if node[0] == goal:\n",
    "            return explored \n",
    "        \n",
    "        child = d.get(node[0])\n",
    "              \n",
    "        for i in child:\n",
    "\n",
    "            cost =  i[1] + node[1]\n",
    "            name = i[0]\n",
    "            new = (name,cost)\n",
    "\n",
    "            if new[0] not in explored and new[0] not in build_dcit(q):\n",
    "                \n",
    "                q.append(new) \n",
    "\n",
    "            elif new[0] in build_dcit(q):\n",
    "\n",
    "                old_data = build_dcit(q)\n",
    "                old_cost = old_data[new[0]]\n",
    "                old_name = new[0]\n",
    "                old = (old_name,old_cost)\n",
    "\n",
    "                if new[1] < old[1]:\n",
    "\n",
    "                    inde = q.index(old)\n",
    "                    q[inde] = new\n",
    "                else:\n",
    "                    pass\n",
    "\n",
    "        \n",
    "        q = sorted(q,key= my)\n",
    "        print(50*'*')\n",
    "        \n",
    "    \n",
    "UCS_new(dd,'g')"
   ]
  },
  {
   "cell_type": "code",
   "execution_count": 15,
   "metadata": {
    "colab": {
     "base_uri": "https://localhost:8080/"
    },
    "id": "kbYPTI7DrnUm",
    "outputId": "bb9fc6f9-2981-4602-d5d0-baf02d37360d"
   },
   "outputs": [
    {
     "data": {
      "text/plain": [
       "{'s': [('a', 3), ('b', 2), ('c', 4)],\n",
       " 'a': [('d', 1)],\n",
       " 'b': [('e', 8), ('f', 7), ('d', 1)],\n",
       " 'c': [('e', 1), ('j', 3)],\n",
       " 'd': [('f', 1), ('h', 1)],\n",
       " 'e': [('g', 1)],\n",
       " 'f': [('g', 5)],\n",
       " 'h': [('g', 1), ('f', 3)],\n",
       " 'j': [('e', 2)],\n",
       " 'g': []}"
      ]
     },
     "execution_count": 15,
     "metadata": {},
     "output_type": "execute_result"
    }
   ],
   "source": [
    "dd"
   ]
  },
  {
   "cell_type": "code",
   "execution_count": null,
   "metadata": {
    "id": "S_jmnHGirnUn"
   },
   "outputs": [],
   "source": []
  },
  {
   "cell_type": "code",
   "execution_count": null,
   "metadata": {
    "id": "wqqQeSobrnUo"
   },
   "outputs": [],
   "source": []
  },
  {
   "cell_type": "code",
   "execution_count": null,
   "metadata": {
    "id": "W8PlbJgQrnUo"
   },
   "outputs": [],
   "source": []
  },
  {
   "cell_type": "code",
   "execution_count": null,
   "metadata": {
    "id": "HzGkM0bprnUp"
   },
   "outputs": [],
   "source": []
  },
  {
   "cell_type": "code",
   "execution_count": 16,
   "metadata": {
    "colab": {
     "base_uri": "https://localhost:8080/"
    },
    "id": "LpsvfdLhrnUq",
    "outputId": "917f9f13-0340-4120-efe8-4c68245bc044"
   },
   "outputs": [
    {
     "name": "stdout",
     "output_type": "stream",
     "text": [
      "Queue :   [('s', 0)]\n",
      "**************************************************\n",
      "Queue :   [('b', 2), ('a', 3), ('c', 4)]\n",
      "**************************************************\n",
      "Queue :   [('a', 3), ('d', 3), ('c', 4), ('f', 9), ('e', 10)]\n",
      "**************************************************\n",
      "Queue :   [('d', 3), ('c', 4), ('f', 9), ('e', 10)]\n",
      "**************************************************\n",
      "Queue :   [('c', 4), ('f', 4), ('h', 4), ('e', 10)]\n",
      "**************************************************\n",
      "Queue :   [('f', 4), ('h', 4), ('e', 5), ('j', 7)]\n",
      "**************************************************\n",
      "Queue :   [('h', 4), ('e', 5), ('j', 7), ('g', 9)]\n",
      "**************************************************\n",
      "Queue :   [('e', 5), ('g', 5), ('j', 7)]\n",
      "**************************************************\n",
      "Queue :   [('g', 5), ('j', 7)]\n"
     ]
    },
    {
     "data": {
      "text/plain": [
       "0.0"
      ]
     },
     "execution_count": 16,
     "metadata": {},
     "output_type": "execute_result"
    }
   ],
   "source": [
    "import time\n",
    "\n",
    "strat =  time.time()\n",
    "UCS_new(dd,'g')\n",
    "end =  time.time()\n",
    "total = end-strat\n",
    "total"
   ]
  },
  {
   "cell_type": "code",
   "execution_count": null,
   "metadata": {
    "id": "rZ7Bd-purnUr"
   },
   "outputs": [],
   "source": []
  },
  {
   "cell_type": "code",
   "execution_count": null,
   "metadata": {
    "id": "OQ8-dfSornUt"
   },
   "outputs": [],
   "source": []
  },
  {
   "cell_type": "code",
   "execution_count": null,
   "metadata": {
    "id": "adzXgWDxrnUu"
   },
   "outputs": [],
   "source": []
  },
  {
   "cell_type": "code",
   "execution_count": null,
   "metadata": {
    "id": "hAwmNSaNrnUu"
   },
   "outputs": [],
   "source": []
  },
  {
   "cell_type": "code",
   "execution_count": null,
   "metadata": {
    "id": "WFVvN3xJrnUv"
   },
   "outputs": [],
   "source": []
  },
  {
   "cell_type": "code",
   "execution_count": null,
   "metadata": {
    "id": "AL7Vel4TrnUw"
   },
   "outputs": [],
   "source": []
  },
  {
   "cell_type": "code",
   "execution_count": null,
   "metadata": {
    "id": "jQE7u5BornUw",
    "jupyter": {
     "outputs_hidden": true
    }
   },
   "outputs": [],
   "source": []
  },
  {
   "cell_type": "code",
   "execution_count": null,
   "metadata": {
    "id": "HOssrj6FrnUw"
   },
   "outputs": [],
   "source": []
  },
  {
   "cell_type": "code",
   "execution_count": null,
   "metadata": {
    "id": "0jOnkG7crnUx"
   },
   "outputs": [],
   "source": []
  }
 ],
 "metadata": {
  "colab": {
   "name": "UCS ( MCS)(2).ipynb",
   "provenance": []
  },
  "kernelspec": {
   "display_name": "Python 3",
   "language": "python",
   "name": "python3"
  },
  "language_info": {
   "codemirror_mode": {
    "name": "ipython",
    "version": 3
   },
   "file_extension": ".py",
   "mimetype": "text/x-python",
   "name": "python",
   "nbconvert_exporter": "python",
   "pygments_lexer": "ipython3",
   "version": "3.7.0"
  }
 },
 "nbformat": 4,
 "nbformat_minor": 1
}
