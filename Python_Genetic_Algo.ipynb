{
 "cells": [
  {
   "cell_type": "code",
   "execution_count": null,
   "metadata": {
    "id": "6N2vXCX2QkP4"
   },
   "outputs": [],
   "source": [
    "#Genetic Algorithm steps"
   ]
  },
  {
   "cell_type": "code",
   "execution_count": null,
   "metadata": {
    "id": "4HhgVFAD-M_M"
   },
   "outputs": [],
   "source": [
    "import random \n",
    "import copy\n",
    "POPULATION_SIZE = 8     \n",
    "GENERATIONS = 10     \n",
    "LEN_CHROMOSOME = 16 \n",
    "split = 7\n"
   ]
  },
  {
   "cell_type": "code",
   "execution_count": null,
   "metadata": {
    "id": "F2mXpxxA-M_S"
   },
   "outputs": [],
   "source": [
    "def create_chrom():\n",
    "    chrom = []\n",
    "    for i in range(LEN_CHROMOSOME):\n",
    "        if random.random()> 0.5:\n",
    "            chrom.append(1)\n",
    "        else:\n",
    "            chrom.append(0)\n",
    "    return chrom\n",
    "\n",
    "\n",
    "def create_pop():\n",
    "    pop = []\n",
    "    for i in range(POPULATION_SIZE):\n",
    "        a = create_chrom()\n",
    "        pop.append(a)\n",
    "    return pop\n"
   ]
  },
  {
   "cell_type": "code",
   "execution_count": null,
   "metadata": {
    "id": "HBMKpx31-M_V",
    "outputId": "55ee8ce4-8be4-4432-ad95-7e2387d359de"
   },
   "outputs": [
    {
     "name": "stdout",
     "output_type": "stream",
     "text": [
      "[[0, 1, 1, 1, 1, 0, 0, 1, 0, 0, 1, 0, 1, 1, 0, 0], [1, 0, 0, 0, 0, 1, 1, 0, 1, 1, 1, 1, 0, 1, 0, 0], [0, 0, 0, 0, 1, 0, 0, 1, 1, 0, 0, 0, 1, 0, 0, 0], [1, 1, 1, 0, 0, 1, 1, 0, 1, 0, 0, 0, 1, 1, 0, 0], [0, 0, 1, 1, 0, 0, 0, 1, 0, 1, 0, 1, 1, 1, 0, 0], [0, 1, 1, 1, 1, 0, 1, 1, 0, 1, 1, 0, 1, 0, 1, 0], [0, 1, 0, 1, 0, 1, 1, 0, 0, 0, 1, 1, 1, 0, 0, 1], [0, 0, 0, 0, 1, 1, 1, 1, 0, 0, 0, 0, 1, 1, 0, 0]]\n"
     ]
    }
   ],
   "source": [
    "popul=create_pop()\n",
    "print(popul)"
   ]
  },
  {
   "cell_type": "code",
   "execution_count": null,
   "metadata": {
    "id": "5ZhkQii4-M_X"
   },
   "outputs": [],
   "source": [
    "def my(x):\n",
    "    return x[1]\n",
    "\n",
    "def fitness(chrom):\n",
    "    return sum(chrom)\n",
    "\n",
    "def pop_with_fit(population):\n",
    "    pop_fit = []\n",
    "    for i in population:\n",
    "\n",
    "        a = (i,fitness(i))\n",
    "        pop_fit.append(a)\n",
    "        \n",
    "    return sorted(pop_fit, key=my, reverse=True)"
   ]
  },
  {
   "cell_type": "code",
   "execution_count": null,
   "metadata": {
    "id": "dnLmZ_zL-M_Z",
    "outputId": "55239030-5d9f-4663-fa29-4fccb392cf12"
   },
   "outputs": [
    {
     "name": "stdout",
     "output_type": "stream",
     "text": [
      "[([0, 1, 1, 1, 1, 0, 1, 1, 0, 1, 1, 0, 1, 0, 1, 0], 10), ([0, 1, 1, 1, 1, 0, 0, 1, 0, 0, 1, 0, 1, 1, 0, 0], 8), ([1, 0, 0, 0, 0, 1, 1, 0, 1, 1, 1, 1, 0, 1, 0, 0], 8), ([1, 1, 1, 0, 0, 1, 1, 0, 1, 0, 0, 0, 1, 1, 0, 0], 8), ([0, 1, 0, 1, 0, 1, 1, 0, 0, 0, 1, 1, 1, 0, 0, 1], 8), ([0, 0, 1, 1, 0, 0, 0, 1, 0, 1, 0, 1, 1, 1, 0, 0], 7), ([0, 0, 0, 0, 1, 1, 1, 1, 0, 0, 0, 0, 1, 1, 0, 0], 6), ([0, 0, 0, 0, 1, 0, 0, 1, 1, 0, 0, 0, 1, 0, 0, 0], 4)]\n"
     ]
    }
   ],
   "source": [
    "popwithfitness=pop_with_fit(popul)\n",
    "print(popwithfitness)"
   ]
  },
  {
   "cell_type": "code",
   "execution_count": null,
   "metadata": {
    "id": "33sWe8C3-M_c"
   },
   "outputs": [],
   "source": [
    "def selection(pop):\n",
    "    print(len(pop[:4]))\n",
    "    return pop[:4]"
   ]
  },
  {
   "cell_type": "code",
   "execution_count": null,
   "metadata": {
    "id": "P-JKEGud-M_d",
    "outputId": "f6fe7471-0a28-406d-c927-3160bb1e21c9"
   },
   "outputs": [
    {
     "name": "stdout",
     "output_type": "stream",
     "text": [
      "4\n",
      "[([0, 1, 1, 1, 1, 0, 1, 1, 0, 1, 1, 0, 1, 0, 1, 0], 10), ([0, 1, 1, 1, 1, 0, 0, 1, 0, 0, 1, 0, 1, 1, 0, 0], 8), ([1, 0, 0, 0, 0, 1, 1, 0, 1, 1, 1, 1, 0, 1, 0, 0], 8), ([1, 1, 1, 0, 0, 1, 1, 0, 1, 0, 0, 0, 1, 1, 0, 0], 8)]\n"
     ]
    }
   ],
   "source": [
    "selected=selection(popwithfitness)\n",
    "print(selected)"
   ]
  },
  {
   "cell_type": "code",
   "execution_count": null,
   "metadata": {
    "id": "3YN7KXAr-M_f"
   },
   "outputs": [],
   "source": [
    "def crosover(sel):\n",
    "    cros_lis = []\n",
    "    for i in range(0,len(sel),2):\n",
    "\n",
    "        p1 = sel[i][0]\n",
    "        p2 = sel[i+1][0]\n",
    "\n",
    "        c1 = p1[:split]+p2[split:]\n",
    "        c2 = p2[:split]+p1[split:]\n",
    "\n",
    "        cros_lis.append(p1)\n",
    "        cros_lis.append(p2)\n",
    "        cros_lis.append(c1)\n",
    "        cros_lis.append(c2)\n",
    "    return cros_lis"
   ]
  },
  {
   "cell_type": "code",
   "execution_count": null,
   "metadata": {
    "id": "VItitapW-M_h",
    "scrolled": true
   },
   "outputs": [],
   "source": [
    "outputcrossover=crosover(selected)"
   ]
  },
  {
   "cell_type": "code",
   "execution_count": null,
   "metadata": {
    "id": "4v5uTw7k-M_k"
   },
   "outputs": [],
   "source": [
    "def mutaion(crs):\n",
    "    mut = []\n",
    "    for a in crs:\n",
    "        ind = random.randint(0,len(a)-1)\n",
    "        if a[ind] == 1:\n",
    "            a[ind] = 0\n",
    "        else:\n",
    "            a[ind] = 1\n",
    "        mut.append(a)\n",
    "    return mut"
   ]
  },
  {
   "cell_type": "code",
   "execution_count": null,
   "metadata": {
    "id": "V3A0GeZD-M_m",
    "outputId": "bb8146b6-7663-4cdd-b35c-af1e7d98ab81"
   },
   "outputs": [
    {
     "data": {
      "text/plain": [
       "[[0, 1, 1, 1, 1, 0, 1, 1, 0, 1, 1, 0, 1, 1, 1, 0],\n",
       " [0, 1, 1, 1, 1, 0, 0, 0, 0, 0, 1, 0, 1, 1, 0, 0],\n",
       " [0, 1, 1, 1, 1, 0, 1, 1, 0, 0, 0, 0, 1, 1, 0, 0],\n",
       " [0, 1, 1, 1, 1, 0, 0, 1, 0, 1, 1, 0, 1, 0, 0, 0],\n",
       " [1, 0, 0, 0, 0, 1, 1, 0, 1, 1, 0, 1, 0, 1, 0, 0],\n",
       " [1, 1, 1, 0, 0, 1, 1, 0, 1, 0, 0, 1, 1, 1, 0, 0],\n",
       " [1, 0, 0, 0, 0, 1, 1, 0, 1, 0, 0, 0, 1, 1, 0, 1],\n",
       " [1, 0, 1, 0, 0, 1, 1, 0, 1, 1, 1, 1, 0, 1, 0, 0]]"
      ]
     },
     "execution_count": 31,
     "metadata": {},
     "output_type": "execute_result"
    }
   ],
   "source": [
    "mutaion(outputcrossover)"
   ]
  },
  {
   "cell_type": "code",
   "execution_count": null,
   "metadata": {
    "id": "Jm3sKUKr-M_n"
   },
   "outputs": [],
   "source": [
    "#Complete Ge"
   ]
  },
  {
   "cell_type": "code",
   "execution_count": null,
   "metadata": {
    "id": "J3cXI-x3QkP-"
   },
   "outputs": [],
   "source": [
    "def create_chrom():\n",
    "    chrom = []\n",
    "    for i in range(LEN_CHROMOSOME):\n",
    "        if random.random()> 0.5:\n",
    "            chrom.append(1)\n",
    "        else:\n",
    "            chrom.append(0)\n",
    "    return chrom\n",
    "\n",
    "\n",
    "def create_pop():\n",
    "    pop = []\n",
    "    for i in range(POPULATION_SIZE):\n",
    "        a = create_chrom()\n",
    "        pop.append(a)\n",
    "    return pop\n",
    "\n",
    "def my(x):\n",
    "    return x[1]\n",
    "\n",
    "def fitness(chrom):\n",
    "    return sum(chrom)\n",
    "\n",
    "def pop_with_fit(population):\n",
    "    pop_fit = []\n",
    "    for i in population:\n",
    "\n",
    "        a = (i,fitness(i))\n",
    "        pop_fit.append(a)\n",
    "        \n",
    "    return sorted(pop_fit, key=my, reverse=True)\n",
    "\n",
    "def selection(pop):\n",
    "    print(len(pop[:4]))\n",
    "    return pop[:4]\n",
    "def crosover(sel):\n",
    "    cros_lis = []\n",
    "    for i in range(0,len(sel),2):\n",
    "\n",
    "        p1 = sel[i][0]\n",
    "        p2 = sel[i+1][0]\n",
    "\n",
    "        c1 = p1[:split]+p2[split:]\n",
    "        c2 = p2[:split]+p1[split:]\n",
    "\n",
    "        cros_lis.append(p1)\n",
    "        cros_lis.append(p2)\n",
    "        cros_lis.append(c1)\n",
    "        cros_lis.append(c2)\n",
    "    return cros_lis\n",
    "\n",
    "def mutaion(crs):\n",
    "    mut = []\n",
    "    for a in crs:\n",
    "        ind = random.randint(0,len(a)-1)\n",
    "        if a[ind] == 1:\n",
    "            a[ind] = 0\n",
    "        else:\n",
    "            a[ind] = 1\n",
    "        mut.append(a)\n",
    "    return mut\n",
    "\n",
    "def show(pop,generation):\n",
    "    print()\n",
    "    print('Generation no [',generation,']', 'Best Chromosome: ',pop[0][0],'Fitness: ',pop[0][1])\n",
    "    print(80*'-')\n",
    "    for no,i in enumerate(pop):\n",
    "        print('chromosome # ',no+1 ,'<<<',i[0],'>>>','Fitness:',i[1])"
   ]
  },
  {
   "cell_type": "code",
   "execution_count": null,
   "metadata": {
    "id": "kTKcwuhhQkQG"
   },
   "outputs": [],
   "source": []
  },
  {
   "cell_type": "code",
   "execution_count": null,
   "metadata": {
    "colab": {
     "base_uri": "https://localhost:8080/"
    },
    "id": "RiGJK32ZQkQJ",
    "outputId": "935b514a-97fe-467c-ebfe-9703ea3f3235"
   },
   "outputs": [
    {
     "name": "stdout",
     "output_type": "stream",
     "text": [
      "\n",
      "Generation no [ 1 ] Best Chromosome:  [1, 1, 0, 1, 0, 1, 1, 0, 0, 1, 1, 1, 0, 1, 1, 1] Fitness:  11\n",
      "--------------------------------------------------------------------------------\n",
      "chromosome #  1 <<< [1, 1, 0, 1, 0, 1, 1, 0, 0, 1, 1, 1, 0, 1, 1, 1] >>> Fitness: 11\n",
      "chromosome #  2 <<< [1, 0, 1, 1, 1, 1, 1, 1, 1, 1, 0, 0, 0, 1, 0, 1] >>> Fitness: 11\n",
      "chromosome #  3 <<< [1, 1, 1, 1, 1, 1, 1, 0, 1, 1, 0, 0, 0, 0, 0, 1] >>> Fitness: 10\n",
      "chromosome #  4 <<< [0, 1, 1, 1, 0, 1, 1, 1, 0, 1, 0, 0, 0, 1, 1, 0] >>> Fitness: 9\n",
      "chromosome #  5 <<< [1, 0, 0, 1, 0, 0, 0, 1, 1, 1, 0, 1, 1, 1, 1, 0] >>> Fitness: 9\n",
      "chromosome #  6 <<< [1, 0, 1, 1, 0, 1, 0, 1, 1, 0, 0, 0, 0, 0, 0, 1] >>> Fitness: 7\n",
      "chromosome #  7 <<< [0, 0, 0, 1, 0, 1, 0, 0, 1, 0, 1, 1, 0, 1, 0, 0] >>> Fitness: 6\n",
      "chromosome #  8 <<< [0, 1, 1, 0, 0, 1, 0, 0, 1, 0, 0, 0, 0, 1, 0, 0] >>> Fitness: 5\n",
      "4\n",
      "selection [([1, 1, 0, 1, 0, 1, 1, 0, 0, 1, 1, 1, 0, 1, 1, 1], 11), ([1, 0, 1, 1, 1, 1, 1, 1, 1, 1, 0, 0, 0, 1, 0, 1], 11), ([1, 1, 1, 1, 1, 1, 1, 0, 1, 1, 0, 0, 0, 0, 0, 1], 10), ([0, 1, 1, 1, 0, 1, 1, 1, 0, 1, 0, 0, 0, 1, 1, 0], 9)]\n",
      "\n",
      "Generation no [ 2 ] Best Chromosome:  [1, 0, 1, 1, 1, 1, 1, 0, 1, 1, 1, 1, 0, 1, 1, 1] Fitness:  13\n",
      "--------------------------------------------------------------------------------\n",
      "chromosome #  1 <<< [1, 0, 1, 1, 1, 1, 1, 0, 1, 1, 1, 1, 0, 1, 1, 1] >>> Fitness: 13\n",
      "chromosome #  2 <<< [1, 1, 0, 1, 0, 1, 1, 0, 1, 1, 1, 1, 0, 1, 1, 1] >>> Fitness: 12\n",
      "chromosome #  3 <<< [1, 1, 0, 1, 0, 1, 1, 1, 1, 1, 0, 0, 1, 1, 0, 1] >>> Fitness: 11\n",
      "chromosome #  4 <<< [1, 0, 1, 1, 1, 1, 0, 1, 1, 1, 0, 0, 0, 1, 0, 1] >>> Fitness: 10\n",
      "chromosome #  5 <<< [1, 1, 1, 1, 1, 1, 1, 1, 0, 1, 0, 0, 0, 1, 0, 0] >>> Fitness: 10\n",
      "chromosome #  6 <<< [1, 0, 1, 1, 1, 1, 1, 0, 1, 1, 0, 0, 0, 0, 0, 1] >>> Fitness: 9\n",
      "chromosome #  7 <<< [0, 1, 1, 1, 0, 1, 1, 0, 1, 1, 0, 0, 1, 0, 0, 1] >>> Fitness: 9\n",
      "chromosome #  8 <<< [0, 1, 1, 1, 0, 1, 1, 1, 0, 1, 0, 0, 0, 0, 1, 0] >>> Fitness: 8\n",
      "4\n",
      "selection [([1, 0, 1, 1, 1, 1, 1, 0, 1, 1, 1, 1, 0, 1, 1, 1], 13), ([1, 1, 0, 1, 0, 1, 1, 0, 1, 1, 1, 1, 0, 1, 1, 1], 12), ([1, 1, 0, 1, 0, 1, 1, 1, 1, 1, 0, 0, 1, 1, 0, 1], 11), ([1, 0, 1, 1, 1, 1, 0, 1, 1, 1, 0, 0, 0, 1, 0, 1], 10)]\n",
      "\n",
      "Generation no [ 3 ] Best Chromosome:  [1, 0, 1, 1, 1, 1, 1, 1, 1, 1, 1, 1, 0, 1, 1, 1] Fitness:  14\n",
      "--------------------------------------------------------------------------------\n",
      "chromosome #  1 <<< [1, 0, 1, 1, 1, 1, 1, 1, 1, 1, 1, 1, 0, 1, 1, 1] >>> Fitness: 14\n",
      "chromosome #  2 <<< [0, 0, 1, 1, 1, 1, 1, 0, 1, 1, 1, 1, 0, 1, 1, 1] >>> Fitness: 12\n",
      "chromosome #  3 <<< [1, 1, 0, 1, 0, 1, 1, 0, 1, 1, 1, 1, 0, 0, 1, 1] >>> Fitness: 11\n",
      "chromosome #  4 <<< [1, 1, 0, 1, 0, 1, 0, 0, 1, 1, 1, 1, 0, 1, 1, 1] >>> Fitness: 11\n",
      "chromosome #  5 <<< [1, 0, 1, 1, 1, 1, 0, 1, 1, 1, 0, 0, 0, 1, 1, 1] >>> Fitness: 11\n",
      "chromosome #  6 <<< [1, 0, 0, 1, 0, 1, 1, 1, 1, 1, 0, 0, 1, 1, 0, 1] >>> Fitness: 10\n",
      "chromosome #  7 <<< [1, 0, 1, 1, 1, 1, 0, 1, 1, 1, 0, 0, 1, 0, 0, 1] >>> Fitness: 10\n",
      "chromosome #  8 <<< [0, 1, 0, 1, 0, 1, 1, 1, 1, 1, 0, 0, 0, 1, 0, 1] >>> Fitness: 9\n",
      "4\n",
      "selection [([1, 0, 1, 1, 1, 1, 1, 1, 1, 1, 1, 1, 0, 1, 1, 1], 14), ([0, 0, 1, 1, 1, 1, 1, 0, 1, 1, 1, 1, 0, 1, 1, 1], 12), ([1, 1, 0, 1, 0, 1, 1, 0, 1, 1, 1, 1, 0, 0, 1, 1], 11), ([1, 1, 0, 1, 0, 1, 0, 0, 1, 1, 1, 1, 0, 1, 1, 1], 11)]\n",
      "\n",
      "Generation no [ 4 ] Best Chromosome:  [1, 0, 1, 1, 1, 1, 1, 0, 1, 1, 1, 1, 1, 1, 1, 1] Fitness:  14\n",
      "--------------------------------------------------------------------------------\n",
      "chromosome #  1 <<< [1, 0, 1, 1, 1, 1, 1, 0, 1, 1, 1, 1, 1, 1, 1, 1] >>> Fitness: 14\n",
      "chromosome #  2 <<< [1, 0, 1, 1, 1, 1, 1, 1, 1, 1, 1, 1, 0, 0, 1, 1] >>> Fitness: 13\n",
      "chromosome #  3 <<< [0, 1, 1, 1, 1, 1, 1, 0, 1, 1, 1, 1, 0, 1, 1, 1] >>> Fitness: 13\n",
      "chromosome #  4 <<< [0, 0, 1, 1, 1, 1, 1, 1, 1, 1, 1, 1, 0, 1, 1, 0] >>> Fitness: 12\n",
      "chromosome #  5 <<< [1, 1, 0, 1, 0, 1, 1, 0, 1, 1, 1, 1, 0, 1, 1, 1] >>> Fitness: 12\n",
      "chromosome #  6 <<< [1, 1, 0, 1, 0, 1, 1, 0, 1, 1, 1, 1, 0, 1, 1, 0] >>> Fitness: 11\n",
      "chromosome #  7 <<< [1, 1, 0, 1, 0, 1, 1, 0, 1, 1, 1, 1, 0, 0, 1, 0] >>> Fitness: 10\n",
      "chromosome #  8 <<< [0, 1, 0, 1, 0, 1, 0, 0, 1, 1, 1, 1, 0, 0, 1, 1] >>> Fitness: 9\n",
      "4\n",
      "selection [([1, 0, 1, 1, 1, 1, 1, 0, 1, 1, 1, 1, 1, 1, 1, 1], 14), ([1, 0, 1, 1, 1, 1, 1, 1, 1, 1, 1, 1, 0, 0, 1, 1], 13), ([0, 1, 1, 1, 1, 1, 1, 0, 1, 1, 1, 1, 0, 1, 1, 1], 13), ([0, 0, 1, 1, 1, 1, 1, 1, 1, 1, 1, 1, 0, 1, 1, 0], 12)]\n",
      "\n",
      "Generation no [ 5 ] Best Chromosome:  [1, 1, 1, 1, 1, 1, 1, 1, 1, 1, 1, 1, 0, 0, 1, 1] Fitness:  14\n",
      "--------------------------------------------------------------------------------\n",
      "chromosome #  1 <<< [1, 1, 1, 1, 1, 1, 1, 1, 1, 1, 1, 1, 0, 0, 1, 1] >>> Fitness: 14\n",
      "chromosome #  2 <<< [0, 1, 1, 1, 1, 1, 1, 1, 1, 1, 1, 1, 0, 1, 1, 1] >>> Fitness: 14\n",
      "chromosome #  3 <<< [1, 0, 1, 1, 1, 0, 1, 0, 1, 1, 1, 1, 1, 1, 1, 1] >>> Fitness: 13\n",
      "chromosome #  4 <<< [1, 0, 1, 1, 0, 1, 1, 0, 1, 1, 1, 1, 1, 1, 1, 1] >>> Fitness: 13\n",
      "chromosome #  5 <<< [1, 0, 1, 1, 1, 1, 1, 0, 1, 1, 1, 1, 0, 0, 1, 1] >>> Fitness: 12\n",
      "chromosome #  6 <<< [0, 1, 1, 1, 1, 1, 1, 1, 1, 0, 1, 1, 0, 1, 1, 0] >>> Fitness: 12\n",
      "chromosome #  7 <<< [0, 0, 1, 1, 1, 1, 1, 0, 1, 1, 1, 1, 0, 1, 1, 0] >>> Fitness: 11\n",
      "chromosome #  8 <<< [0, 0, 0, 1, 1, 1, 1, 0, 1, 1, 1, 1, 0, 1, 1, 1] >>> Fitness: 11\n",
      "4\n",
      "selection [([1, 1, 1, 1, 1, 1, 1, 1, 1, 1, 1, 1, 0, 0, 1, 1], 14), ([0, 1, 1, 1, 1, 1, 1, 1, 1, 1, 1, 1, 0, 1, 1, 1], 14), ([1, 0, 1, 1, 1, 0, 1, 0, 1, 1, 1, 1, 1, 1, 1, 1], 13), ([1, 0, 1, 1, 0, 1, 1, 0, 1, 1, 1, 1, 1, 1, 1, 1], 13)]\n",
      "\n",
      "Generation no [ 6 ] Best Chromosome:  [1, 1, 1, 1, 1, 1, 1, 1, 0, 1, 1, 1, 0, 1, 1, 1] Fitness:  14\n",
      "--------------------------------------------------------------------------------\n",
      "chromosome #  1 <<< [1, 1, 1, 1, 1, 1, 1, 1, 0, 1, 1, 1, 0, 1, 1, 1] >>> Fitness: 14\n",
      "chromosome #  2 <<< [1, 1, 1, 1, 1, 1, 0, 1, 1, 1, 1, 1, 0, 0, 1, 1] >>> Fitness: 13\n",
      "chromosome #  3 <<< [0, 1, 1, 1, 1, 1, 1, 1, 1, 1, 1, 1, 0, 1, 1, 0] >>> Fitness: 13\n",
      "chromosome #  4 <<< [0, 1, 1, 0, 1, 1, 1, 1, 1, 1, 1, 1, 0, 0, 1, 1] >>> Fitness: 12\n",
      "chromosome #  5 <<< [1, 0, 1, 1, 1, 0, 1, 0, 1, 1, 1, 0, 1, 1, 1, 1] >>> Fitness: 12\n",
      "chromosome #  6 <<< [1, 0, 1, 1, 0, 0, 1, 0, 1, 1, 1, 1, 1, 1, 1, 1] >>> Fitness: 12\n",
      "chromosome #  7 <<< [1, 0, 0, 1, 1, 0, 1, 0, 1, 1, 1, 1, 1, 1, 1, 1] >>> Fitness: 12\n",
      "chromosome #  8 <<< [0, 0, 1, 1, 0, 1, 1, 0, 1, 1, 1, 1, 1, 1, 1, 1] >>> Fitness: 12\n",
      "4\n",
      "selection [([1, 1, 1, 1, 1, 1, 1, 1, 0, 1, 1, 1, 0, 1, 1, 1], 14), ([1, 1, 1, 1, 1, 1, 0, 1, 1, 1, 1, 1, 0, 0, 1, 1], 13), ([0, 1, 1, 1, 1, 1, 1, 1, 1, 1, 1, 1, 0, 1, 1, 0], 13), ([0, 1, 1, 0, 1, 1, 1, 1, 1, 1, 1, 1, 0, 0, 1, 1], 12)]\n",
      "\n",
      "Generation no [ 7 ] Best Chromosome:  [1, 1, 1, 1, 1, 1, 0, 1, 1, 1, 1, 1, 0, 1, 1, 1] Fitness:  14\n",
      "--------------------------------------------------------------------------------\n",
      "chromosome #  1 <<< [1, 1, 1, 1, 1, 1, 0, 1, 1, 1, 1, 1, 0, 1, 1, 1] >>> Fitness: 14\n",
      "chromosome #  2 <<< [1, 1, 1, 1, 1, 1, 0, 1, 0, 1, 1, 1, 0, 1, 1, 1] >>> Fitness: 13\n",
      "chromosome #  3 <<< [1, 1, 1, 0, 1, 1, 1, 1, 1, 1, 1, 1, 0, 0, 1, 1] >>> Fitness: 13\n",
      "chromosome #  4 <<< [1, 1, 1, 1, 1, 1, 0, 1, 1, 0, 1, 1, 0, 0, 1, 1] >>> Fitness: 12\n",
      "chromosome #  5 <<< [0, 1, 1, 1, 1, 1, 1, 1, 1, 1, 1, 1, 0, 1, 0, 0] >>> Fitness: 12\n",
      "chromosome #  6 <<< [0, 1, 1, 1, 0, 1, 1, 1, 1, 1, 1, 1, 0, 0, 1, 1] >>> Fitness: 12\n",
      "chromosome #  7 <<< [0, 1, 1, 0, 1, 1, 1, 1, 1, 1, 1, 1, 0, 0, 1, 0] >>> Fitness: 11\n",
      "chromosome #  8 <<< [0, 1, 0, 0, 1, 1, 1, 1, 1, 1, 1, 1, 0, 1, 1, 0] >>> Fitness: 11\n",
      "4\n",
      "selection [([1, 1, 1, 1, 1, 1, 0, 1, 1, 1, 1, 1, 0, 1, 1, 1], 14), ([1, 1, 1, 1, 1, 1, 0, 1, 0, 1, 1, 1, 0, 1, 1, 1], 13), ([1, 1, 1, 0, 1, 1, 1, 1, 1, 1, 1, 1, 0, 0, 1, 1], 13), ([1, 1, 1, 1, 1, 1, 0, 1, 1, 0, 1, 1, 0, 0, 1, 1], 12)]\n",
      "\n",
      "Generation no [ 8 ] Best Chromosome:  [1, 1, 1, 1, 1, 1, 1, 1, 1, 1, 1, 1, 0, 1, 1, 1] Fitness:  15\n",
      "--------------------------------------------------------------------------------\n",
      "chromosome #  1 <<< [1, 1, 1, 1, 1, 1, 1, 1, 1, 1, 1, 1, 0, 1, 1, 1] >>> Fitness: 15\n",
      "chromosome #  2 <<< [1, 1, 1, 1, 1, 1, 0, 1, 0, 1, 1, 1, 1, 1, 1, 1] >>> Fitness: 14\n",
      "chromosome #  3 <<< [1, 1, 1, 1, 1, 1, 0, 1, 0, 1, 1, 1, 1, 1, 1, 1] >>> Fitness: 14\n",
      "chromosome #  4 <<< [1, 1, 1, 1, 1, 1, 0, 1, 1, 1, 1, 0, 0, 1, 1, 1] >>> Fitness: 13\n",
      "chromosome #  5 <<< [1, 1, 1, 0, 1, 1, 1, 1, 1, 0, 1, 1, 1, 0, 1, 1] >>> Fitness: 13\n",
      "chromosome #  6 <<< [1, 1, 1, 0, 1, 1, 1, 1, 1, 1, 1, 0, 0, 0, 1, 1] >>> Fitness: 12\n",
      "chromosome #  7 <<< [1, 1, 1, 1, 1, 1, 0, 1, 1, 1, 1, 1, 0, 0, 0, 1] >>> Fitness: 12\n",
      "chromosome #  8 <<< [1, 1, 1, 1, 1, 1, 0, 1, 1, 0, 1, 0, 0, 0, 1, 1] >>> Fitness: 11\n",
      "4\n",
      "selection [([1, 1, 1, 1, 1, 1, 1, 1, 1, 1, 1, 1, 0, 1, 1, 1], 15), ([1, 1, 1, 1, 1, 1, 0, 1, 0, 1, 1, 1, 1, 1, 1, 1], 14), ([1, 1, 1, 1, 1, 1, 0, 1, 0, 1, 1, 1, 1, 1, 1, 1], 14), ([1, 1, 1, 1, 1, 1, 0, 1, 1, 1, 1, 0, 0, 1, 1, 1], 13)]\n",
      "\n",
      "Generation no [ 9 ] Best Chromosome:  [1, 1, 1, 1, 1, 1, 1, 1, 1, 0, 1, 1, 0, 1, 1, 1] Fitness:  14\n",
      "--------------------------------------------------------------------------------\n",
      "chromosome #  1 <<< [1, 1, 1, 1, 1, 1, 1, 1, 1, 0, 1, 1, 0, 1, 1, 1] >>> Fitness: 14\n",
      "chromosome #  2 <<< [1, 1, 1, 1, 1, 1, 1, 0, 0, 1, 1, 1, 1, 1, 1, 1] >>> Fitness: 14\n",
      "chromosome #  3 <<< [1, 1, 1, 1, 1, 1, 0, 1, 1, 1, 1, 0, 1, 1, 1, 1] >>> Fitness: 14\n",
      "chromosome #  4 <<< [1, 1, 1, 0, 1, 1, 0, 1, 0, 1, 1, 1, 1, 1, 1, 1] >>> Fitness: 13\n",
      "chromosome #  5 <<< [1, 1, 1, 1, 1, 1, 0, 1, 1, 1, 0, 1, 0, 1, 1, 1] >>> Fitness: 13\n",
      "chromosome #  6 <<< [1, 1, 1, 0, 1, 1, 0, 1, 0, 1, 1, 1, 1, 1, 1, 1] >>> Fitness: 13\n",
      "chromosome #  7 <<< [1, 0, 1, 1, 1, 1, 0, 1, 0, 1, 1, 1, 1, 1, 1, 1] >>> Fitness: 13\n",
      "chromosome #  8 <<< [1, 1, 1, 1, 1, 1, 0, 1, 1, 1, 1, 0, 0, 1, 0, 1] >>> Fitness: 12\n",
      "4\n",
      "selection [([1, 1, 1, 1, 1, 1, 1, 1, 1, 0, 1, 1, 0, 1, 1, 1], 14), ([1, 1, 1, 1, 1, 1, 1, 0, 0, 1, 1, 1, 1, 1, 1, 1], 14), ([1, 1, 1, 1, 1, 1, 0, 1, 1, 1, 1, 0, 1, 1, 1, 1], 14), ([1, 1, 1, 0, 1, 1, 0, 1, 0, 1, 1, 1, 1, 1, 1, 1], 13)]\n",
      "\n",
      "Generation no [ 10 ] Best Chromosome:  [1, 1, 1, 1, 1, 1, 1, 1, 1, 1, 1, 1, 0, 1, 1, 1] Fitness:  15\n",
      "--------------------------------------------------------------------------------\n",
      "chromosome #  1 <<< [1, 1, 1, 1, 1, 1, 1, 1, 1, 1, 1, 1, 0, 1, 1, 1] >>> Fitness: 15\n",
      "chromosome #  2 <<< [1, 1, 1, 1, 1, 1, 1, 0, 0, 1, 0, 1, 1, 1, 1, 1] >>> Fitness: 13\n",
      "chromosome #  3 <<< [1, 1, 1, 1, 1, 1, 1, 0, 0, 1, 1, 1, 0, 1, 1, 1] >>> Fitness: 13\n",
      "chromosome #  4 <<< [1, 1, 1, 1, 1, 1, 1, 1, 1, 0, 1, 1, 0, 1, 1, 0] >>> Fitness: 13\n",
      "chromosome #  5 <<< [1, 1, 1, 1, 1, 0, 0, 1, 1, 1, 1, 0, 1, 1, 1, 1] >>> Fitness: 13\n",
      "chromosome #  6 <<< [1, 1, 1, 1, 1, 1, 0, 0, 0, 1, 1, 1, 1, 1, 1, 1] >>> Fitness: 13\n",
      "chromosome #  7 <<< [1, 1, 1, 0, 1, 1, 0, 1, 0, 1, 1, 1, 0, 1, 1, 1] >>> Fitness: 12\n",
      "chromosome #  8 <<< [1, 1, 1, 0, 1, 1, 0, 0, 1, 1, 1, 0, 1, 1, 1, 1] >>> Fitness: 12\n",
      "4\n",
      "selection [([1, 1, 1, 1, 1, 1, 1, 1, 1, 1, 1, 1, 0, 1, 1, 1], 15), ([1, 1, 1, 1, 1, 1, 1, 0, 0, 1, 0, 1, 1, 1, 1, 1], 13), ([1, 1, 1, 1, 1, 1, 1, 0, 0, 1, 1, 1, 0, 1, 1, 1], 13), ([1, 1, 1, 1, 1, 1, 1, 1, 1, 0, 1, 1, 0, 1, 1, 0], 13)]\n",
      "\n",
      "Generation no [ 11 ] Best Chromosome:  [1, 1, 0, 1, 1, 1, 1, 1, 1, 1, 1, 1, 0, 1, 1, 1] Fitness:  14\n",
      "--------------------------------------------------------------------------------\n",
      "chromosome #  1 <<< [1, 1, 0, 1, 1, 1, 1, 1, 1, 1, 1, 1, 0, 1, 1, 1] >>> Fitness: 14\n",
      "chromosome #  2 <<< [1, 1, 1, 1, 1, 1, 1, 0, 1, 1, 0, 1, 1, 1, 1, 1] >>> Fitness: 14\n",
      "chromosome #  3 <<< [1, 0, 1, 1, 1, 1, 1, 1, 1, 1, 1, 1, 0, 1, 1, 1] >>> Fitness: 14\n",
      "chromosome #  4 <<< [1, 1, 0, 1, 1, 1, 1, 0, 0, 1, 0, 1, 1, 1, 1, 1] >>> Fitness: 12\n",
      "chromosome #  5 <<< [1, 1, 1, 1, 1, 1, 1, 0, 0, 1, 0, 1, 0, 1, 1, 1] >>> Fitness: 12\n",
      "chromosome #  6 <<< [1, 1, 0, 1, 1, 1, 1, 1, 1, 0, 1, 1, 0, 1, 1, 0] >>> Fitness: 12\n",
      "chromosome #  7 <<< [1, 1, 1, 1, 1, 1, 1, 1, 1, 0, 1, 1, 0, 0, 1, 0] >>> Fitness: 12\n",
      "chromosome #  8 <<< [1, 1, 1, 1, 1, 1, 1, 0, 0, 1, 1, 1, 0, 1, 1, 0] >>> Fitness: 12\n",
      "4\n",
      "selection [([1, 1, 0, 1, 1, 1, 1, 1, 1, 1, 1, 1, 0, 1, 1, 1], 14), ([1, 1, 1, 1, 1, 1, 1, 0, 1, 1, 0, 1, 1, 1, 1, 1], 14), ([1, 0, 1, 1, 1, 1, 1, 1, 1, 1, 1, 1, 0, 1, 1, 1], 14), ([1, 1, 0, 1, 1, 1, 1, 0, 0, 1, 0, 1, 1, 1, 1, 1], 12)]\n",
      "\n",
      "Generation no [ 11 ] Best Chromosome:  [1, 1, 1, 1, 1, 1, 1, 1, 1, 1, 1, 1, 1, 1, 1, 1] Fitness:  16\n",
      "--------------------------------------------------------------------------------\n",
      "chromosome #  1 <<< [1, 1, 1, 1, 1, 1, 1, 1, 1, 1, 1, 1, 1, 1, 1, 1] >>> Fitness: 16\n",
      "chromosome #  2 <<< [1, 1, 1, 1, 1, 1, 1, 1, 1, 1, 0, 1, 1, 1, 1, 1] >>> Fitness: 15\n",
      "chromosome #  3 <<< [1, 1, 1, 1, 1, 1, 1, 1, 1, 1, 1, 1, 0, 1, 1, 1] >>> Fitness: 15\n",
      "chromosome #  4 <<< [1, 1, 0, 1, 1, 1, 1, 1, 1, 1, 0, 1, 1, 1, 1, 1] >>> Fitness: 14\n",
      "chromosome #  5 <<< [1, 1, 0, 1, 1, 1, 1, 1, 0, 1, 1, 1, 0, 1, 1, 1] >>> Fitness: 13\n",
      "chromosome #  6 <<< [1, 0, 0, 1, 1, 1, 1, 1, 1, 1, 1, 1, 0, 1, 1, 1] >>> Fitness: 13\n",
      "chromosome #  7 <<< [1, 1, 0, 1, 0, 1, 1, 0, 0, 1, 0, 1, 1, 1, 1, 1] >>> Fitness: 11\n",
      "chromosome #  8 <<< [1, 0, 1, 1, 1, 1, 1, 0, 0, 0, 0, 1, 1, 1, 1, 1] >>> Fitness: 11\n"
     ]
    }
   ],
   "source": [
    "Population = None\n",
    "for i  in range(50):\n",
    "    if Population is None :\n",
    "        Population = create_pop()\n",
    "        Popul = pop_with_fit(Population)\n",
    "    else:\n",
    "        show(Popul,i)\n",
    "        Popul = selection(Popul)\n",
    "        print('selection',Popul)\n",
    "        Popul = crosover(Popul)\n",
    "        Popul = mutaion(Popul)\n",
    "        Popul = pop_with_fit(Popul)\n",
    "    \n",
    "        if (Popul[0][1] == LEN_CHROMOSOME):\n",
    "            show(Popul,i)\n",
    "            break"
   ]
  },
  {
   "cell_type": "code",
   "execution_count": null,
   "metadata": {
    "id": "0hHcqJ0lQkQO"
   },
   "outputs": [],
   "source": []
  },
  {
   "cell_type": "code",
   "execution_count": null,
   "metadata": {
    "id": "IoLMnUJoQkQS"
   },
   "outputs": [],
   "source": []
  },
  {
   "cell_type": "code",
   "execution_count": null,
   "metadata": {
    "id": "XMbjZgMZQkQT"
   },
   "outputs": [],
   "source": []
  },
  {
   "cell_type": "code",
   "execution_count": null,
   "metadata": {
    "id": "hp3JjTMqQkQU"
   },
   "outputs": [],
   "source": []
  },
  {
   "cell_type": "code",
   "execution_count": null,
   "metadata": {
    "id": "OVuBhGOWQkQW"
   },
   "outputs": [],
   "source": []
  },
  {
   "cell_type": "code",
   "execution_count": null,
   "metadata": {
    "id": "o77G3fodQkQY"
   },
   "outputs": [],
   "source": []
  },
  {
   "cell_type": "code",
   "execution_count": null,
   "metadata": {
    "id": "bSIPafKoQkQZ"
   },
   "outputs": [],
   "source": []
  },
  {
   "cell_type": "code",
   "execution_count": null,
   "metadata": {
    "id": "DgqjajNWQkQa"
   },
   "outputs": [],
   "source": []
  },
  {
   "cell_type": "code",
   "execution_count": null,
   "metadata": {
    "id": "MjRTIjjDQkQb"
   },
   "outputs": [],
   "source": []
  },
  {
   "cell_type": "code",
   "execution_count": null,
   "metadata": {
    "id": "oUrN2O9QQkQb"
   },
   "outputs": [],
   "source": []
  },
  {
   "cell_type": "code",
   "execution_count": null,
   "metadata": {
    "id": "OGlKZx4gQkQb"
   },
   "outputs": [],
   "source": []
  },
  {
   "cell_type": "code",
   "execution_count": null,
   "metadata": {
    "id": "Hd9qqTQ9QkQc"
   },
   "outputs": [],
   "source": []
  },
  {
   "cell_type": "code",
   "execution_count": null,
   "metadata": {
    "id": "WpvKgywPQkQg"
   },
   "outputs": [],
   "source": []
  },
  {
   "cell_type": "code",
   "execution_count": null,
   "metadata": {
    "id": "eLpebTclQkQj"
   },
   "outputs": [],
   "source": []
  },
  {
   "cell_type": "code",
   "execution_count": null,
   "metadata": {
    "id": "VktYQUuAQkQl"
   },
   "outputs": [],
   "source": []
  },
  {
   "cell_type": "code",
   "execution_count": null,
   "metadata": {
    "id": "yEbi7tC_QkQm"
   },
   "outputs": [],
   "source": []
  },
  {
   "cell_type": "code",
   "execution_count": null,
   "metadata": {
    "id": "v7EZ-svPQkQn"
   },
   "outputs": [],
   "source": []
  }
 ],
 "metadata": {
  "colab": {
   "collapsed_sections": [],
   "name": "Python_Genetic_Algo_0,1_ful.ipynb",
   "provenance": []
  },
  "kernelspec": {
   "display_name": "Python 3 (ipykernel)",
   "language": "python",
   "name": "python3"
  },
  "language_info": {
   "codemirror_mode": {
    "name": "ipython",
    "version": 3
   },
   "file_extension": ".py",
   "mimetype": "text/x-python",
   "name": "python",
   "nbconvert_exporter": "python",
   "pygments_lexer": "ipython3",
   "version": "3.9.10"
  }
 },
 "nbformat": 4,
 "nbformat_minor": 1
}
